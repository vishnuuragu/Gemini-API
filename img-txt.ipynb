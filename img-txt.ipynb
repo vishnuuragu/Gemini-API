{
 "cells": [
  {
   "cell_type": "code",
   "execution_count": 8,
   "metadata": {},
   "outputs": [],
   "source": [
    "import pathlib\n",
    "import textwrap\n",
    "import PIL.Image\n",
    "from dotenv import load_dotenv\n",
    "import google.generativeai as genai\n",
    "from IPython.display import Markdown\n",
    "import os\n",
    "from IPython.display import display"
   ]
  },
  {
   "cell_type": "code",
   "execution_count": 9,
   "metadata": {},
   "outputs": [],
   "source": [
    "load_dotenv()\n",
    "\n",
    "GOOGLE_API_KEY=os.getenv('API_KEY')\n",
    "\n",
    "genai.configure(api_key=GOOGLE_API_KEY)\n",
    "\n",
    "def to_markdown(text):\n",
    "    text = text.replace('•', '  *')\n",
    "    return Markdown(textwrap.indent(text, '> ', predicate=lambda _: True))"
   ]
  },
  {
   "cell_type": "code",
   "execution_count": 12,
   "metadata": {},
   "outputs": [],
   "source": [
    "img = PIL.Image.open('img.png')\n",
    "\n",
    "model = genai.GenerativeModel('gemini-1.5-flash')"
   ]
  },
  {
   "cell_type": "code",
   "execution_count": 13,
   "metadata": {},
   "outputs": [
    {
     "data": {
      "text/markdown": [
       "> The image contains a variety of fresh produce, including:\n",
       "> \n",
       "> * Tomatoes\n",
       "> * Cucumbers\n",
       "> * Carrots\n",
       "> * Bell peppers\n",
       "> * Broccoli\n",
       "> * Cauliflower\n",
       "> * Daikon radishes\n",
       "> * Green beans\n",
       "> * Green onions\n",
       "> * Garlic\n",
       "> * Ginger\n",
       "> * Cabbage\n",
       "> * Eggplant \n",
       "> * Gourds\n",
       "> * Potatoes \n",
       "> * A bag of oranges\n",
       "> \n",
       "> The image is likely a still life of a market vendor's stall or a kitchen counter. It is a colorful and vibrant image, highlighting the abundance of fresh produce available."
      ],
      "text/plain": [
       "<IPython.core.display.Markdown object>"
      ]
     },
     "execution_count": 13,
     "metadata": {},
     "output_type": "execute_result"
    }
   ],
   "source": [
    "response = model.generate_content([\"What is present in that image\", img], stream=True)\n",
    "response.resolve()\n",
    "\n",
    "to_markdown(response.text)"
   ]
  }
 ],
 "metadata": {
  "kernelspec": {
   "display_name": "Python 3",
   "language": "python",
   "name": "python3"
  },
  "language_info": {
   "codemirror_mode": {
    "name": "ipython",
    "version": 3
   },
   "file_extension": ".py",
   "mimetype": "text/x-python",
   "name": "python",
   "nbconvert_exporter": "python",
   "pygments_lexer": "ipython3",
   "version": "3.11.9"
  }
 },
 "nbformat": 4,
 "nbformat_minor": 2
}
